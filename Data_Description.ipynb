{
 "cells": [
  {
   "cell_type": "markdown",
   "metadata": {},
   "source": [
    "## Introduction/Business Problem"
   ]
  },
  {
   "cell_type": "markdown",
   "metadata": {},
   "source": [
    "### Problem Background\n",
    "Canada is a popular location for exchange students, between 2014 and 2017 there was  an increase of 34% in international students. Most of these international students were in Toronto, Vancouver and Montreal. The continuous increasing rate of foreign students requires a higher housing amount.\n",
    "\n",
    "Finding a place to live is usually a hard task for foreign students as they have to take into account many aspects such as living expenses, amenities, transportation, among others. \n",
    "\n",
    "### Problem Description\n",
    "When a company is trying to build apartments for students in Toronto, is important to look for the right location, that will make students choose them. In order to do that is important to consider:\n",
    "    - public transport\n",
    "    - shopping and eating \n",
    "    - distance to universities\n",
    "\n",
    "### Target Audience\n",
    "Stakeholders of a construction project are interested on making a good investment that can allow them to choose the right neighborhood in Toronto in order to rent all the apartments in a short period of time."
   ]
  },
  {
   "cell_type": "markdown",
   "metadata": {},
   "source": [
    "### Data Description\n",
    "The data that will be used for the problem is a list of postal codes in Toronto. This data will be get from https://en.wikipedia.org/wiki/List_of_postal_codes_of_Canada:_M and turned into a dataframe for further analysis.\n",
    "\n",
    "After getting the information from the webpage previously mentioned the Foursquare location data will be used to look for the neighborhood with better benefits."
   ]
  },
  {
   "cell_type": "code",
   "execution_count": 7,
   "metadata": {},
   "outputs": [
    {
     "name": "stdout",
     "output_type": "stream",
     "text": [
      "Libraries imported.\n"
     ]
    }
   ],
   "source": [
    "# import necessary libraries\n",
    "import pandas as pd\n",
    "import requests\n",
    "from bs4 import BeautifulSoup\n",
    "\n",
    "print('Libraries imported.')"
   ]
  },
  {
   "cell_type": "code",
   "execution_count": 8,
   "metadata": {},
   "outputs": [
    {
     "data": {
      "text/plain": [
       "181"
      ]
     },
     "execution_count": 8,
     "metadata": {},
     "output_type": "execute_result"
    }
   ],
   "source": [
    "r=requests.get('https://en.wikipedia.org/wiki/List_of_postal_codes_of_Canada:_M').text\n",
    "soup=BeautifulSoup(r,\"html.parser\")\n",
    "tab = soup.find('table')\n",
    "tab.text\n",
    "ro = tab.find_all('tr')    # get how many rows are in the table\n",
    "nrows = len(ro)\n",
    "nrows"
   ]
  },
  {
   "cell_type": "code",
   "execution_count": 12,
   "metadata": {},
   "outputs": [
    {
     "name": "stdout",
     "output_type": "stream",
     "text": [
      "Header 1: Postal Code \n",
      "Header 2: Borough \n",
      "Header 3: Neighborhood\n"
     ]
    }
   ],
   "source": [
    "title = tab.tr.text # extract header of table from webpage\n",
    "title = title.split('\\n')\n",
    "h1 = title[1]\n",
    "h2 = title[3]\n",
    "h3 = title[5]\n",
    "print(\"Header 1:\", h1, \"\\nHeader 2:\", h2, \"\\nHeader 3:\",h3)"
   ]
  },
  {
   "cell_type": "code",
   "execution_count": 13,
   "metadata": {},
   "outputs": [],
   "source": [
    "data = []\n",
    "for i in range(1,nrows):\n",
    "    data_PC = ro[i].text.split('\\n')[1]   # Get Postal Code data\n",
    "    data_B = ro[i].text.split('\\n')[3]    # Get Borough data\n",
    "    data_N = ro[i].text.split('\\n')[5]    # Get Neighborhood  data\n",
    "    data_N = data_N.replace('/',',')      # Get all neighborhoods separated by ,\n",
    "    data_N = data_N.replace('Not assigned',data_B)  # Neighborhoods with Not asigned are change to the same name as the borough\n",
    "    if data_B != 'Not assigned':          # Cells with not assigned boroughs are ignored\n",
    "        data.append((data_PC, data_B, data_N))\n",
    "         "
   ]
  },
  {
   "cell_type": "code",
   "execution_count": 14,
   "metadata": {},
   "outputs": [
    {
     "data": {
      "text/html": [
       "<div>\n",
       "<style scoped>\n",
       "    .dataframe tbody tr th:only-of-type {\n",
       "        vertical-align: middle;\n",
       "    }\n",
       "\n",
       "    .dataframe tbody tr th {\n",
       "        vertical-align: top;\n",
       "    }\n",
       "\n",
       "    .dataframe thead th {\n",
       "        text-align: right;\n",
       "    }\n",
       "</style>\n",
       "<table border=\"1\" class=\"dataframe\">\n",
       "  <thead>\n",
       "    <tr style=\"text-align: right;\">\n",
       "      <th></th>\n",
       "      <th>Postal Code</th>\n",
       "      <th>Borough</th>\n",
       "      <th>Neighborhood</th>\n",
       "    </tr>\n",
       "  </thead>\n",
       "  <tbody>\n",
       "    <tr>\n",
       "      <th>0</th>\n",
       "      <td>M3A</td>\n",
       "      <td>North York</td>\n",
       "      <td>Parkwoods</td>\n",
       "    </tr>\n",
       "    <tr>\n",
       "      <th>1</th>\n",
       "      <td>M4A</td>\n",
       "      <td>North York</td>\n",
       "      <td>Victoria Village</td>\n",
       "    </tr>\n",
       "    <tr>\n",
       "      <th>2</th>\n",
       "      <td>M5A</td>\n",
       "      <td>Downtown Toronto</td>\n",
       "      <td>Regent Park, Harbourfront</td>\n",
       "    </tr>\n",
       "    <tr>\n",
       "      <th>3</th>\n",
       "      <td>M6A</td>\n",
       "      <td>North York</td>\n",
       "      <td>Lawrence Manor, Lawrence Heights</td>\n",
       "    </tr>\n",
       "    <tr>\n",
       "      <th>4</th>\n",
       "      <td>M7A</td>\n",
       "      <td>Downtown Toronto</td>\n",
       "      <td>Queen's Park, Ontario Provincial Government</td>\n",
       "    </tr>\n",
       "  </tbody>\n",
       "</table>\n",
       "</div>"
      ],
      "text/plain": [
       "  Postal Code           Borough                                 Neighborhood\n",
       "0         M3A        North York                                    Parkwoods\n",
       "1         M4A        North York                             Victoria Village\n",
       "2         M5A  Downtown Toronto                    Regent Park, Harbourfront\n",
       "3         M6A        North York             Lawrence Manor, Lawrence Heights\n",
       "4         M7A  Downtown Toronto  Queen's Park, Ontario Provincial Government"
      ]
     },
     "execution_count": 14,
     "metadata": {},
     "output_type": "execute_result"
    }
   ],
   "source": [
    "df = pd.DataFrame(data, columns = [h1,h2,h3])    # Transform list into dataframe\n",
    "df.head()"
   ]
  },
  {
   "cell_type": "code",
   "execution_count": 15,
   "metadata": {},
   "outputs": [
    {
     "name": "stdout",
     "output_type": "stream",
     "text": [
      "(103, 3)\n"
     ]
    }
   ],
   "source": [
    "print(df.shape)"
   ]
  },
  {
   "cell_type": "markdown",
   "metadata": {},
   "source": [
    "We can see that there are 103 different postal codes in Toronto, in order to reduce the amount of information only Toronto's boroughs are going to be consider."
   ]
  }
 ],
 "metadata": {
  "kernelspec": {
   "display_name": "Python 3",
   "language": "python",
   "name": "python3"
  },
  "language_info": {
   "codemirror_mode": {
    "name": "ipython",
    "version": 3
   },
   "file_extension": ".py",
   "mimetype": "text/x-python",
   "name": "python",
   "nbconvert_exporter": "python",
   "pygments_lexer": "ipython3",
   "version": "3.7.2"
  }
 },
 "nbformat": 4,
 "nbformat_minor": 2
}
