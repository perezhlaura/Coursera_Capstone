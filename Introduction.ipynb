{
 "cells": [
  {
   "cell_type": "markdown",
   "metadata": {},
   "source": [
    "## Introduction/Business Problem"
   ]
  },
  {
   "cell_type": "markdown",
   "metadata": {},
   "source": [
    "### Problem Background\n",
    "Canada is a popular location for exchange students, between 2014 and 2017 there was  an increase of 34% in international students. Most of these international students were in Toronto, Vancouver and Montreal. The continuous increasing rate of foreign students requires a higher housing amount.\n",
    "\n",
    "Finding a place to live is usually a hard task for foreign students as they have to take into account many aspects such as living expenses, amenities, transportation, among others. \n",
    "\n",
    "### Problem Description\n",
    "When a company is trying to build apartments for students in Toronto, is important to look for the right location, that will make students choose them. In order to do that is important to consider:\n",
    "    - public transport\n",
    "    - shopping and eating \n",
    "    - distance to universities\n",
    "\n",
    "### Target Audience\n",
    "Stakeholders of a construction project are interested on making a good investment that can allow them to choose the right neighborhood in Toronto in order to rent all the apartments in a short period of time. "
   ]
  }
 ],
 "metadata": {
  "kernelspec": {
   "display_name": "Python 3",
   "language": "python",
   "name": "python3"
  },
  "language_info": {
   "codemirror_mode": {
    "name": "ipython",
    "version": 3
   },
   "file_extension": ".py",
   "mimetype": "text/x-python",
   "name": "python",
   "nbconvert_exporter": "python",
   "pygments_lexer": "ipython3",
   "version": "3.7.2"
  }
 },
 "nbformat": 4,
 "nbformat_minor": 2
}
