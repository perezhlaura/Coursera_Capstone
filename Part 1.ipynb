{
 "cells": [
  {
   "cell_type": "markdown",
   "metadata": {},
   "source": [
    "# Segmenting and Clustering Neighborhoods in Toronto"
   ]
  },
  {
   "cell_type": "markdown",
   "metadata": {},
   "source": [
    "## Part 1 - Table of postal codes to dataframe"
   ]
  },
  {
   "cell_type": "code",
   "execution_count": 1,
   "metadata": {},
   "outputs": [
    {
     "name": "stdout",
     "output_type": "stream",
     "text": [
      "Requirement already satisfied: beautifulsoup4 in /Library/Frameworks/Python.framework/Versions/3.7/lib/python3.7/site-packages (4.9.0)\n",
      "Requirement already satisfied: as in /Library/Frameworks/Python.framework/Versions/3.7/lib/python3.7/site-packages (0.1)\n",
      "Requirement already satisfied: bs4 in /Library/Frameworks/Python.framework/Versions/3.7/lib/python3.7/site-packages (0.0.1)\n",
      "Requirement already satisfied: soupsieve>1.2 in /Library/Frameworks/Python.framework/Versions/3.7/lib/python3.7/site-packages (from beautifulsoup4) (2.0)\n",
      "\u001b[33mYou are using pip version 19.0.3, however version 20.1 is available.\n",
      "You should consider upgrading via the 'pip install --upgrade pip' command.\u001b[0m\n"
     ]
    }
   ],
   "source": [
    "# Install required library\n",
    "!pip3 install beautifulsoup4 as bs4"
   ]
  },
  {
   "cell_type": "code",
   "execution_count": 2,
   "metadata": {},
   "outputs": [
    {
     "name": "stdout",
     "output_type": "stream",
     "text": [
      "Libraries imported.\n"
     ]
    }
   ],
   "source": [
    "# import necessary libraries\n",
    "import pandas as pd\n",
    "import requests\n",
    "from bs4 import BeautifulSoup\n",
    "\n",
    "print('Libraries imported.')"
   ]
  },
  {
   "cell_type": "markdown",
   "metadata": {},
   "source": [
    "### Getting all info from website\n",
    "With the Beautiful Soup library we are able to get all the info from the Wikipedia page, in order to get the information in an easier to read way we can use \"prettify\"."
   ]
  },
  {
   "cell_type": "code",
   "execution_count": 3,
   "metadata": {},
   "outputs": [],
   "source": [
    "my_url='https://en.wikipedia.org/wiki/List_of_postal_codes_of_Canada:_M'\n",
    "r=requests.get('https://en.wikipedia.org/wiki/List_of_postal_codes_of_Canada:_M').text\n",
    "soup=BeautifulSoup(r,\"html.parser\")"
   ]
  },
  {
   "cell_type": "markdown",
   "metadata": {},
   "source": [
    "As we are interested in getting the postal code table, we have to look for this table using \"find\". After we print the result, we can see that every row starts with \"tr\" and the header of the table with \"th\"."
   ]
  },
  {
   "cell_type": "code",
   "execution_count": 7,
   "metadata": {},
   "outputs": [
    {
     "data": {
      "text/plain": [
       "\"\\n\\nPostal code\\n\\nBorough\\n\\nNeighborhood\\n\\n\\nM1A\\n\\nNot assigned\\n\\n\\n\\n\\nM2A\\n\\nNot assigned\\n\\n\\n\\n\\nM3A\\n\\nNorth York\\n\\nParkwoods\\n\\n\\nM4A\\n\\nNorth York\\n\\nVictoria Village\\n\\n\\nM5A\\n\\nDowntown Toronto\\n\\nRegent Park / Harbourfront\\n\\n\\nM6A\\n\\nNorth York\\n\\nLawrence Manor / Lawrence Heights\\n\\n\\nM7A\\n\\nDowntown Toronto\\n\\nQueen's Park / Ontario Provincial Government\\n\\n\\nM8A\\n\\nNot assigned\\n\\n\\n\\n\\nM9A\\n\\nEtobicoke\\n\\nIslington Avenue\\n\\n\\nM1B\\n\\nScarborough\\n\\nMalvern / Rouge\\n\\n\\nM2B\\n\\nNot assigned\\n\\n\\n\\n\\nM3B\\n\\nNorth York\\n\\nDon Mills\\n\\n\\nM4B\\n\\nEast York\\n\\nParkview Hill / Woodbine Gardens\\n\\n\\nM5B\\n\\nDowntown Toronto\\n\\nGarden District / Ryerson\\n\\n\\nM6B\\n\\nNorth York\\n\\nGlencairn\\n\\n\\nM7B\\n\\nNot assigned\\n\\n\\n\\n\\nM8B\\n\\nNot assigned\\n\\n\\n\\n\\nM9B\\n\\nEtobicoke\\n\\nWest Deane Park / Princess Gardens / Martin Grove / Islington / Cloverdale\\n\\n\\nM1C\\n\\nScarborough\\n\\nRouge Hill / Port Union / Highland Creek\\n\\n\\nM2C\\n\\nNot assigned\\n\\n\\n\\n\\nM3C\\n\\nNorth York\\n\\nDon Mills\\n\\n\\nM4C\\n\\nEast York\\n\\nWoodbine Heights\\n\\n\\nM5C\\n\\nDowntown Toronto\\n\\nSt. James Town\\n\\n\\nM6C\\n\\nYork\\n\\nHumewood-Cedarvale\\n\\n\\nM7C\\n\\nNot assigned\\n\\n\\n\\n\\nM8C\\n\\nNot assigned\\n\\n\\n\\n\\nM9C\\n\\nEtobicoke\\n\\nEringate / Bloordale Gardens / Old Burnhamthorpe / Markland Wood\\n\\n\\nM1E\\n\\nScarborough\\n\\nGuildwood / Morningside / West Hill\\n\\n\\nM2E\\n\\nNot assigned\\n\\n\\n\\n\\nM3E\\n\\nNot assigned\\n\\n\\n\\n\\nM4E\\n\\nEast Toronto\\n\\nThe Beaches\\n\\n\\nM5E\\n\\nDowntown Toronto\\n\\nBerczy Park\\n\\n\\nM6E\\n\\nYork\\n\\nCaledonia-Fairbanks\\n\\n\\nM7E\\n\\nNot assigned\\n\\n\\n\\n\\nM8E\\n\\nNot assigned\\n\\n\\n\\n\\nM9E\\n\\nNot assigned\\n\\n\\n\\n\\nM1G\\n\\nScarborough\\n\\nWoburn\\n\\n\\nM2G\\n\\nNot assigned\\n\\n\\n\\n\\nM3G\\n\\nNot assigned\\n\\n\\n\\n\\nM4G\\n\\nEast York\\n\\nLeaside\\n\\n\\nM5G\\n\\nDowntown Toronto\\n\\nCentral Bay Street\\n\\n\\nM6G\\n\\nDowntown Toronto\\n\\nChristie\\n\\n\\nM7G\\n\\nNot assigned\\n\\n\\n\\n\\nM8G\\n\\nNot assigned\\n\\n\\n\\n\\nM9G\\n\\nNot assigned\\n\\n\\n\\n\\nM1H\\n\\nScarborough\\n\\nCedarbrae\\n\\n\\nM2H\\n\\nNorth York\\n\\nHillcrest Village\\n\\n\\nM3H\\n\\nNorth York\\n\\nBathurst Manor / Wilson Heights / Downsview North\\n\\n\\nM4H\\n\\nEast York\\n\\nThorncliffe Park\\n\\n\\nM5H\\n\\nDowntown Toronto\\n\\nRichmond / Adelaide / King\\n\\n\\nM6H\\n\\nWest Toronto\\n\\nDufferin / Dovercourt Village\\n\\n\\nM7H\\n\\nNot assigned\\n\\n\\n\\n\\nM8H\\n\\nNot assigned\\n\\n\\n\\n\\nM9H\\n\\nNot assigned\\n\\n\\n\\n\\nM1J\\n\\nScarborough\\n\\nScarborough Village\\n\\n\\nM2J\\n\\nNorth York\\n\\nFairview / Henry Farm / Oriole\\n\\n\\nM3J\\n\\nNorth York\\n\\nNorthwood Park / York University\\n\\n\\nM4J\\n\\nEast York\\n\\nEast Toronto\\n\\n\\nM5J\\n\\nDowntown Toronto\\n\\nHarbourfront East / Union Station / Toronto Islands\\n\\n\\nM6J\\n\\nWest Toronto\\n\\nLittle Portugal / Trinity\\n\\n\\nM7J\\n\\nNot assigned\\n\\n\\n\\n\\nM8J\\n\\nNot assigned\\n\\n\\n\\n\\nM9J\\n\\nNot assigned\\n\\n\\n\\n\\nM1K\\n\\nScarborough\\n\\nKennedy Park / Ionview / East Birchmount Park\\n\\n\\nM2K\\n\\nNorth York\\n\\nBayview Village\\n\\n\\nM3K\\n\\nNorth York\\n\\nDownsview\\n\\n\\nM4K\\n\\nEast Toronto\\n\\nThe Danforth West / Riverdale\\n\\n\\nM5K\\n\\nDowntown Toronto\\n\\nToronto Dominion Centre / Design Exchange\\n\\n\\nM6K\\n\\nWest Toronto\\n\\nBrockton / Parkdale Village / Exhibition Place\\n\\n\\nM7K\\n\\nNot assigned\\n\\n\\n\\n\\nM8K\\n\\nNot assigned\\n\\n\\n\\n\\nM9K\\n\\nNot assigned\\n\\n\\n\\n\\nM1L\\n\\nScarborough\\n\\nGolden Mile / Clairlea / Oakridge\\n\\n\\nM2L\\n\\nNorth York\\n\\nYork Mills / Silver Hills\\n\\n\\nM3L\\n\\nNorth York\\n\\nDownsview\\n\\n\\nM4L\\n\\nEast Toronto\\n\\nIndia Bazaar / The Beaches West\\n\\n\\nM5L\\n\\nDowntown Toronto\\n\\nCommerce Court / Victoria Hotel\\n\\n\\nM6L\\n\\nNorth York\\n\\nNorth Park / Maple Leaf Park / Upwood Park\\n\\n\\nM7L\\n\\nNot assigned\\n\\n\\n\\n\\nM8L\\n\\nNot assigned\\n\\n\\n\\n\\nM9L\\n\\nNorth York\\n\\nHumber Summit\\n\\n\\nM1M\\n\\nScarborough\\n\\nCliffside / Cliffcrest / Scarborough Village West\\n\\n\\nM2M\\n\\nNorth York\\n\\nWillowdale / Newtonbrook\\n\\n\\nM3M\\n\\nNorth York\\n\\nDownsview\\n\\n\\nM4M\\n\\nEast Toronto\\n\\nStudio District\\n\\n\\nM5M\\n\\nNorth York\\n\\nBedford Park / Lawrence Manor East\\n\\n\\nM6M\\n\\nYork\\n\\nDel Ray / Mount Dennis / Keelsdale and Silverthorn\\n\\n\\nM7M\\n\\nNot assigned\\n\\n\\n\\n\\nM8M\\n\\nNot assigned\\n\\n\\n\\n\\nM9M\\n\\nNorth York\\n\\nHumberlea / Emery\\n\\n\\nM1N\\n\\nScarborough\\n\\nBirch Cliff / Cliffside West\\n\\n\\nM2N\\n\\nNorth York\\n\\nWillowdale\\n\\n\\nM3N\\n\\nNorth York\\n\\nDownsview\\n\\n\\nM4N\\n\\nCentral Toronto\\n\\nLawrence Park\\n\\n\\nM5N\\n\\nCentral Toronto\\n\\nRoselawn\\n\\n\\nM6N\\n\\nYork\\n\\nRunnymede / The Junction North\\n\\n\\nM7N\\n\\nNot assigned\\n\\n\\n\\n\\nM8N\\n\\nNot assigned\\n\\n\\n\\n\\nM9N\\n\\nYork\\n\\nWeston\\n\\n\\nM1P\\n\\nScarborough\\n\\nDorset Park / Wexford Heights / Scarborough Town Centre\\n\\n\\nM2P\\n\\nNorth York\\n\\nYork Mills West\\n\\n\\nM3P\\n\\nNot assigned\\n\\n\\n\\n\\nM4P\\n\\nCentral Toronto\\n\\nDavisville North\\n\\n\\nM5P\\n\\nCentral Toronto\\n\\nForest Hill North & West\\n\\n\\nM6P\\n\\nWest Toronto\\n\\nHigh Park / The Junction South\\n\\n\\nM7P\\n\\nNot assigned\\n\\n\\n\\n\\nM8P\\n\\nNot assigned\\n\\n\\n\\n\\nM9P\\n\\nEtobicoke\\n\\nWestmount\\n\\n\\nM1R\\n\\nScarborough\\n\\nWexford / Maryvale\\n\\n\\nM2R\\n\\nNorth York\\n\\nWillowdale\\n\\n\\nM3R\\n\\nNot assigned\\n\\n\\n\\n\\nM4R\\n\\nCentral Toronto\\n\\nNorth Toronto West\\n\\n\\nM5R\\n\\nCentral Toronto\\n\\nThe Annex / North Midtown / Yorkville\\n\\n\\nM6R\\n\\nWest Toronto\\n\\nParkdale / Roncesvalles\\n\\n\\nM7R\\n\\nMississauga\\n\\nCanada Post Gateway Processing Centre\\n\\n\\nM8R\\n\\nNot assigned\\n\\n\\n\\n\\nM9R\\n\\nEtobicoke\\n\\nKingsview Village / St. Phillips / Martin Grove Gardens / Richview Gardens\\n\\n\\nM1S\\n\\nScarborough\\n\\nAgincourt\\n\\n\\nM2S\\n\\nNot assigned\\n\\n\\n\\n\\nM3S\\n\\nNot assigned\\n\\n\\n\\n\\nM4S\\n\\nCentral Toronto\\n\\nDavisville\\n\\n\\nM5S\\n\\nDowntown Toronto\\n\\nUniversity of Toronto / Harbord\\n\\n\\nM6S\\n\\nWest Toronto\\n\\nRunnymede / Swansea\\n\\n\\nM7S\\n\\nNot assigned\\n\\n\\n\\n\\nM8S\\n\\nNot assigned\\n\\n\\n\\n\\nM9S\\n\\nNot assigned\\n\\n\\n\\n\\nM1T\\n\\nScarborough\\n\\nClarks Corners / Tam O'Shanter / Sullivan\\n\\n\\nM2T\\n\\nNot assigned\\n\\n\\n\\n\\nM3T\\n\\nNot assigned\\n\\n\\n\\n\\nM4T\\n\\nCentral Toronto\\n\\nMoore Park / Summerhill East\\n\\n\\nM5T\\n\\nDowntown Toronto\\n\\nKensington Market / Chinatown / Grange Park\\n\\n\\nM6T\\n\\nNot assigned\\n\\n\\n\\n\\nM7T\\n\\nNot assigned\\n\\n\\n\\n\\nM8T\\n\\nNot assigned\\n\\n\\n\\n\\nM9T\\n\\nNot assigned\\n\\n\\n\\n\\nM1V\\n\\nScarborough\\n\\nMilliken / Agincourt North / Steeles East / L'Amoreaux East\\n\\n\\nM2V\\n\\nNot assigned\\n\\n\\n\\n\\nM3V\\n\\nNot assigned\\n\\n\\n\\n\\nM4V\\n\\nCentral Toronto\\n\\nSummerhill West / Rathnelly / South Hill / Forest Hill SE / Deer Park\\n\\n\\nM5V\\n\\nDowntown Toronto\\n\\nCN Tower / King and Spadina / Railway Lands / Harbourfront West / Bathurst Quay / South Niagara / Island airport\\n\\n\\nM6V\\n\\nNot assigned\\n\\n\\n\\n\\nM7V\\n\\nNot assigned\\n\\n\\n\\n\\nM8V\\n\\nEtobicoke\\n\\nNew Toronto / Mimico South / Humber Bay Shores\\n\\n\\nM9V\\n\\nEtobicoke\\n\\nSouth Steeles / Silverstone / Humbergate / Jamestown / Mount Olive / Beaumond Heights / Thistletown / Albion Gardens\\n\\n\\nM1W\\n\\nScarborough\\n\\nSteeles West / L'Amoreaux West\\n\\n\\nM2W\\n\\nNot assigned\\n\\n\\n\\n\\nM3W\\n\\nNot assigned\\n\\n\\n\\n\\nM4W\\n\\nDowntown Toronto\\n\\nRosedale\\n\\n\\nM5W\\n\\nDowntown Toronto\\n\\nStn A PO Boxes\\n\\n\\nM6W\\n\\nNot assigned\\n\\n\\n\\n\\nM7W\\n\\nNot assigned\\n\\n\\n\\n\\nM8W\\n\\nEtobicoke\\n\\nAlderwood / Long Branch\\n\\n\\nM9W\\n\\nEtobicoke\\n\\nNorthwest\\n\\n\\nM1X\\n\\nScarborough\\n\\nUpper Rouge\\n\\n\\nM2X\\n\\nNot assigned\\n\\n\\n\\n\\nM3X\\n\\nNot assigned\\n\\n\\n\\n\\nM4X\\n\\nDowntown Toronto\\n\\nSt. James Town / Cabbagetown\\n\\n\\nM5X\\n\\nDowntown Toronto\\n\\nFirst Canadian Place / Underground city\\n\\n\\nM6X\\n\\nNot assigned\\n\\n\\n\\n\\nM7X\\n\\nNot assigned\\n\\n\\n\\n\\nM8X\\n\\nEtobicoke\\n\\nThe Kingsway / Montgomery Road  / Old Mill North\\n\\n\\nM9X\\n\\nNot assigned\\n\\n\\n\\n\\nM1Y\\n\\nNot assigned\\n\\n\\n\\n\\nM2Y\\n\\nNot assigned\\n\\n\\n\\n\\nM3Y\\n\\nNot assigned\\n\\n\\n\\n\\nM4Y\\n\\nDowntown Toronto\\n\\nChurch and Wellesley\\n\\n\\nM5Y\\n\\nNot assigned\\n\\n\\n\\n\\nM6Y\\n\\nNot assigned\\n\\n\\n\\n\\nM7Y\\n\\nEast Toronto\\n\\nBusiness reply mail Processing Centre\\n\\n\\nM8Y\\n\\nEtobicoke\\n\\nOld Mill South / King's Mill Park / Sunnylea / Humber Bay / Mimico NE / The Queensway East / Royal York South East / Kingsway Park South East\\n\\n\\nM9Y\\n\\nNot assigned\\n\\n\\n\\n\\nM1Z\\n\\nNot assigned\\n\\n\\n\\n\\nM2Z\\n\\nNot assigned\\n\\n\\n\\n\\nM3Z\\n\\nNot assigned\\n\\n\\n\\n\\nM4Z\\n\\nNot assigned\\n\\n\\n\\n\\nM5Z\\n\\nNot assigned\\n\\n\\n\\n\\nM6Z\\n\\nNot assigned\\n\\n\\n\\n\\nM7Z\\n\\nNot assigned\\n\\n\\n\\n\\nM8Z\\n\\nEtobicoke\\n\\nMimico NW / The Queensway West / South of Bloor / Kingsway Park South West / Royal York South West\\n\\n\\nM9Z\\n\\nNot assigned\\n\\n\\n\""
      ]
     },
     "execution_count": 7,
     "metadata": {},
     "output_type": "execute_result"
    }
   ],
   "source": [
    "tab = soup.find('table')\n",
    "tab.text"
   ]
  },
  {
   "cell_type": "markdown",
   "metadata": {},
   "source": [
    "Using \"find_all\" we are able to get all the rows in the table and the numbers of rows."
   ]
  },
  {
   "cell_type": "code",
   "execution_count": 8,
   "metadata": {},
   "outputs": [
    {
     "data": {
      "text/plain": [
       "181"
      ]
     },
     "execution_count": 8,
     "metadata": {},
     "output_type": "execute_result"
    }
   ],
   "source": [
    "ro = tab.find_all('tr')\n",
    "nrows = len(ro)\n",
    "nrows"
   ]
  },
  {
   "cell_type": "markdown",
   "metadata": {},
   "source": [
    "The first step is to extract the header of the table, therefore we use \"tr.text\" to get the first row as a string."
   ]
  },
  {
   "cell_type": "code",
   "execution_count": 9,
   "metadata": {},
   "outputs": [
    {
     "data": {
      "text/plain": [
       "'\\nPostal code\\n\\nBorough\\n\\nNeighborhood\\n'"
      ]
     },
     "execution_count": 9,
     "metadata": {},
     "output_type": "execute_result"
    }
   ],
   "source": [
    "title = tab.tr.text\n",
    "title"
   ]
  },
  {
   "cell_type": "markdown",
   "metadata": {},
   "source": [
    "Then we can get each header, by using \"split\" we split the string in a list as shown below."
   ]
  },
  {
   "cell_type": "code",
   "execution_count": 10,
   "metadata": {},
   "outputs": [
    {
     "data": {
      "text/plain": [
       "['', 'Postal code', '', 'Borough', '', 'Neighborhood', '']"
      ]
     },
     "execution_count": 10,
     "metadata": {},
     "output_type": "execute_result"
    }
   ],
   "source": [
    "title = title.split('\\n')\n",
    "title"
   ]
  },
  {
   "cell_type": "code",
   "execution_count": 11,
   "metadata": {},
   "outputs": [
    {
     "data": {
      "text/plain": [
       "'Neighborhood'"
      ]
     },
     "execution_count": 11,
     "metadata": {},
     "output_type": "execute_result"
    }
   ],
   "source": [
    "h1 = title[1]\n",
    "h2 = title[3]\n",
    "h3 = title[5]\n",
    "h3"
   ]
  },
  {
   "cell_type": "markdown",
   "metadata": {},
   "source": [
    "In order to get the desired dataframe we have to perform the following steps:\n",
    "    1. Get Postal Code, Borough and Neighborhood data (using split).\n",
    "    2. For postal codes with more than one neighborhood we use \"replace\" in order to get all neighborhoods in the same row separated with a comma.\n",
    "    3. For neighborhoods Not assigned we use \"replace\" to change the Not assigned for the information in borough.\n",
    "    4. Ignore cells with Not assigned boruoghs (using if statement).\n",
    " "
   ]
  },
  {
   "cell_type": "code",
   "execution_count": 12,
   "metadata": {},
   "outputs": [],
   "source": [
    "data = []\n",
    "for i in range(1,nrows):\n",
    "    data_PC = ro[i].text.split('\\n')[1]\n",
    "    data_B = ro[i].text.split('\\n')[3]\n",
    "    data_N = ro[i].text.split('\\n')[5]\n",
    "    data_N = data_N.replace('/',',')\n",
    "    data_N = data_N.replace('Not assigned',data_B)\n",
    "    if data_B != 'Not assigned':\n",
    "        data.append((data_PC, data_B, data_N))\n"
   ]
  },
  {
   "cell_type": "markdown",
   "metadata": {},
   "source": [
    "Finally we transform the list into a dataframe and get the numbers of rows and columns using \"shape\"."
   ]
  },
  {
   "cell_type": "code",
   "execution_count": 13,
   "metadata": {},
   "outputs": [
    {
     "data": {
      "text/html": [
       "<div>\n",
       "<style scoped>\n",
       "    .dataframe tbody tr th:only-of-type {\n",
       "        vertical-align: middle;\n",
       "    }\n",
       "\n",
       "    .dataframe tbody tr th {\n",
       "        vertical-align: top;\n",
       "    }\n",
       "\n",
       "    .dataframe thead th {\n",
       "        text-align: right;\n",
       "    }\n",
       "</style>\n",
       "<table border=\"1\" class=\"dataframe\">\n",
       "  <thead>\n",
       "    <tr style=\"text-align: right;\">\n",
       "      <th></th>\n",
       "      <th>Postal code</th>\n",
       "      <th>Borough</th>\n",
       "      <th>Neighborhood</th>\n",
       "    </tr>\n",
       "  </thead>\n",
       "  <tbody>\n",
       "    <tr>\n",
       "      <th>0</th>\n",
       "      <td>M3A</td>\n",
       "      <td>North York</td>\n",
       "      <td>Parkwoods</td>\n",
       "    </tr>\n",
       "    <tr>\n",
       "      <th>1</th>\n",
       "      <td>M4A</td>\n",
       "      <td>North York</td>\n",
       "      <td>Victoria Village</td>\n",
       "    </tr>\n",
       "    <tr>\n",
       "      <th>2</th>\n",
       "      <td>M5A</td>\n",
       "      <td>Downtown Toronto</td>\n",
       "      <td>Regent Park , Harbourfront</td>\n",
       "    </tr>\n",
       "    <tr>\n",
       "      <th>3</th>\n",
       "      <td>M6A</td>\n",
       "      <td>North York</td>\n",
       "      <td>Lawrence Manor , Lawrence Heights</td>\n",
       "    </tr>\n",
       "    <tr>\n",
       "      <th>4</th>\n",
       "      <td>M7A</td>\n",
       "      <td>Downtown Toronto</td>\n",
       "      <td>Queen's Park , Ontario Provincial Government</td>\n",
       "    </tr>\n",
       "  </tbody>\n",
       "</table>\n",
       "</div>"
      ],
      "text/plain": [
       "  Postal code           Borough                                  Neighborhood\n",
       "0         M3A        North York                                     Parkwoods\n",
       "1         M4A        North York                              Victoria Village\n",
       "2         M5A  Downtown Toronto                    Regent Park , Harbourfront\n",
       "3         M6A        North York             Lawrence Manor , Lawrence Heights\n",
       "4         M7A  Downtown Toronto  Queen's Park , Ontario Provincial Government"
      ]
     },
     "execution_count": 13,
     "metadata": {},
     "output_type": "execute_result"
    }
   ],
   "source": [
    "df = pd.DataFrame(data, columns = [h1,h2,h3])\n",
    "df.head()"
   ]
  },
  {
   "cell_type": "code",
   "execution_count": 14,
   "metadata": {},
   "outputs": [
    {
     "name": "stdout",
     "output_type": "stream",
     "text": [
      "(103, 3)\n"
     ]
    }
   ],
   "source": [
    "print(df.shape)"
   ]
  }
 ],
 "metadata": {
  "kernelspec": {
   "display_name": "Python 3",
   "language": "python",
   "name": "python3"
  },
  "language_info": {
   "codemirror_mode": {
    "name": "ipython",
    "version": 3
   },
   "file_extension": ".py",
   "mimetype": "text/x-python",
   "name": "python",
   "nbconvert_exporter": "python",
   "pygments_lexer": "ipython3",
   "version": "3.7.2"
  }
 },
 "nbformat": 4,
 "nbformat_minor": 2
}
