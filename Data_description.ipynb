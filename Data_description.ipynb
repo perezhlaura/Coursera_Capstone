{
 "cells": [
  {
   "cell_type": "markdown",
   "metadata": {},
   "source": [
    "### Data Description\n",
    "The data that will be used for the problem is a list of postal codes in Budapest. This data will be get from https://en.wikipedia.org/wiki/List_of_postal_codes_in_Hungary and have the postal codes of the 23 districts in Budapest.\n",
    "\n",
    "After getting the information from the webpage previously mentioned the Foursquare location data will be used to look for the district with better benefits."
   ]
  }
 ],
 "metadata": {
  "kernelspec": {
   "display_name": "Python 3",
   "language": "python",
   "name": "python3"
  },
  "language_info": {
   "codemirror_mode": {
    "name": "ipython",
    "version": 3
   },
   "file_extension": ".py",
   "mimetype": "text/x-python",
   "name": "python",
   "nbconvert_exporter": "python",
   "pygments_lexer": "ipython3",
   "version": "3.7.2"
  }
 },
 "nbformat": 4,
 "nbformat_minor": 2
}
